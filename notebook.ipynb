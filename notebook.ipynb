{
 "cells": [
  {
   "cell_type": "code",
   "execution_count": 1,
   "metadata": {},
   "outputs": [],
   "source": [
    "import pandas as pd\n",
    "import sqlite3\n",
    "from decimal import Decimal\n",
    "from enum import Enum\n",
    "from prettytable import PrettyTable"
   ]
  },
  {
   "cell_type": "markdown",
   "metadata": {},
   "source": [
    "To create based database run in terminal:\n",
    "* `sqlite3 database.db`\n",
    "* `DROP TABLE orders;` (if we want to clear database)\n",
    "* `.read database.sql`\n",
    "* `.schema` to check if table exist\n",
    "* `SELECT * FROM orders;` to check based data"
   ]
  },
  {
   "cell_type": "code",
   "execution_count": 2,
   "metadata": {},
   "outputs": [],
   "source": [
    "class OperationType(Enum):\n",
    "    Add = \"Add\"\n",
    "    Remove = \"Remove\""
   ]
  },
  {
   "cell_type": "code",
   "execution_count": 3,
   "metadata": {},
   "outputs": [],
   "source": [
    "class OrderType(Enum):\n",
    "    Buy = \"Buy\"\n",
    "    Sell = \"Sell\""
   ]
  },
  {
   "cell_type": "code",
   "execution_count": 4,
   "metadata": {},
   "outputs": [],
   "source": [
    "class Order:\n",
    "    def __init__(self, id: str, order_type: OrderType, operation_type: OperationType, price: Decimal, quantity: int) -> None:\n",
    "        self.id = id\n",
    "        self.order_type = order_type # (Buy/Sell)\n",
    "        self.operation_type = operation_type # (Add/Remove)\n",
    "        self.price = price \n",
    "        self.quantity = quantity"
   ]
  },
  {
   "cell_type": "code",
   "execution_count": 5,
   "metadata": {},
   "outputs": [],
   "source": [
    "class OrderBook:\n",
    "    def __init__(self) -> None:\n",
    "        self.con = sqlite3.connect('database.db')\n",
    "        self.cur = self.con.cursor()\n",
    "    \n",
    "    def close_connection(self):\n",
    "        self.con.close()\n",
    "\n",
    "    def insert_order(self, order: Order):\n",
    "        self.cur.execute('INSERT INTO \"orders\" (\"id\", \"order\", \"type\", \"price\", \"quantity\") VALUES (?, ?, ?, ?, ?)', [order.id, order.order_type.value, order.operation_type.value, str(order.price), order.quantity])\n",
    "        self.con.commit()\n",
    "    \n",
    "    def find_order(self, id, operation_type:OperationType):\n",
    "        self.cur.execute(\"\"\" SELECT * FROM \"orders\" WHERE \"id\" = ? AND \"type\" = ? \"\"\", [id, operation_type.value]) # assuming that there can be only one order\n",
    "        rows = self.cur.fetchall()\n",
    "        return rows[0]\n",
    "\n",
    "    def best_buy(self):\n",
    "        self.cur.execute(\"\"\" SELECT MAX(price) \n",
    "                        FROM \"orders\" \n",
    "                        WHERE id IN (\n",
    "                            SELECT \"id\" \n",
    "                            FROM \"orders\" \n",
    "                            GROUP BY \"id\" \n",
    "                            HAVING COUNT(*) = 1\n",
    "                        ) \n",
    "                        AND \"order\" = 'Buy'; \"\"\") \n",
    "        rows = self.cur.fetchall()\n",
    "        return rows[0][0]\n",
    "\n",
    "    def best_sell(self):\n",
    "        self.cur.execute(\"\"\" SELECT MIN(price) \n",
    "                        FROM \"orders\" \n",
    "                        WHERE id IN (\n",
    "                            SELECT \"id\" \n",
    "                            FROM \"orders\" \n",
    "                            GROUP BY \"id\" \n",
    "                            HAVING COUNT(*) = 1\n",
    "                        ) \n",
    "                        AND \"order\" = 'Sell'; \"\"\") \n",
    "        rows = self.cur.fetchall()\n",
    "        return rows[0][0]\n",
    "\n",
    "    def add(self, order: Order):\n",
    "        # check if id exist\n",
    "        self.cur.execute(\"\"\" SELECT * FROM \"orders\" WHERE \"id\" = ? \"\"\", [order.id]) \n",
    "        rows = self.cur.fetchall()\n",
    "        is_id = len(rows) > 0\n",
    "\n",
    "        # if id not exist\n",
    "        if not is_id:\n",
    "            # insert new order\n",
    "            self.insert_order(order=order)\n",
    "\n",
    "            # print best price\n",
    "            if order.order_type == OrderType.Buy:\n",
    "                print(f\"Aktualnie najlepsze cena zlecenia typu Sell: {self.best_sell()}\")\n",
    "            else:\n",
    "                print(f\"Aktualnie najlepsze cena zlecenia typu Buy: {self.best_buy()}\")\n",
    "        else:\n",
    "            print(f\"Zlecenie o id: {order.id} już istnieje\")\n",
    "\n",
    "    def remove(self, id):\n",
    "        # check id exist\n",
    "        self.cur.execute(\"\"\" SELECT * FROM \"orders\" WHERE \"id\" = ? \"\"\", [id]) \n",
    "        rows = self.cur.fetchall()\n",
    "        is_id = len(rows) > 0\n",
    "\n",
    "        # if order exist\n",
    "        if is_id:\n",
    "            # check that it has not been previously deleted\n",
    "            self.cur.execute(\"\"\" SELECT * FROM \"orders\" WHERE \"id\" = ? AND type = 'Remove' \"\"\", [id]) # assuming that there can be only one order\n",
    "            rows = self.cur.fetchall()\n",
    "            is_remove = len(rows) > 0\n",
    "\n",
    "            # if not\n",
    "            if not is_remove:\n",
    "                # find that order\n",
    "                row = self.find_order(id=id, operation_type=OperationType.Add)\n",
    "\n",
    "                # and remove it\n",
    "                order = Order(id=id, order_type=OrderType[row[1]], operation_type=OperationType.Remove, price=Decimal(str(row[3])), quantity=row[4])\n",
    "                self.insert_order(order=order)\n",
    "            else:\n",
    "                print(f\"Id: {id} nie istnieje, lub zlecenie zostało już wycofane\")\n",
    "        else:\n",
    "            print(f\"Id: {id} nie istnieje, lub zlecenie zostało już wycofane\")\n",
    "\n",
    "    def print_orderbook(self):\n",
    "        self.cur.execute(\"SELECT * FROM orders\")\n",
    "        rows = self.cur.fetchall()\n",
    "\n",
    "        column_names = [description[0] for description in self.cur.description]\n",
    "        \n",
    "        table = PrettyTable()\n",
    "        table.field_names = column_names\n",
    "        \n",
    "        for row in rows:\n",
    "            table.add_row(row)\n",
    "\n",
    "        print(table)\n",
    "    \n"
   ]
  },
  {
   "cell_type": "code",
   "execution_count": 6,
   "metadata": {},
   "outputs": [],
   "source": [
    "order_book = OrderBook()"
   ]
  },
  {
   "cell_type": "code",
   "execution_count": 7,
   "metadata": {},
   "outputs": [
    {
     "name": "stdout",
     "output_type": "stream",
     "text": [
      "+-----+-------+--------+-------+----------+\n",
      "|  id | order |  type  | price | quantity |\n",
      "+-----+-------+--------+-------+----------+\n",
      "| 001 |  Buy  |  Add   |   20  |   100    |\n",
      "| 002 |  Sell |  Add   |   25  |   200    |\n",
      "| 003 |  Buy  |  Add   |   23  |    50    |\n",
      "| 004 |  Buy  |  Add   |   23  |    70    |\n",
      "| 003 |  Buy  | Remove |   23  |    50    |\n",
      "| 005 |  Sell |  Add   |   28  |   100    |\n",
      "+-----+-------+--------+-------+----------+\n"
     ]
    }
   ],
   "source": [
    "order_book.print_orderbook()"
   ]
  },
  {
   "cell_type": "markdown",
   "metadata": {},
   "source": [
    "### Adding new order"
   ]
  },
  {
   "cell_type": "markdown",
   "metadata": {},
   "source": [
    "Buy type"
   ]
  },
  {
   "cell_type": "code",
   "execution_count": 8,
   "metadata": {},
   "outputs": [
    {
     "name": "stdout",
     "output_type": "stream",
     "text": [
      "Aktualnie najlepsze cena zlecenia typu Sell: 25\n",
      "+-----+-------+--------+-------+----------+\n",
      "|  id | order |  type  | price | quantity |\n",
      "+-----+-------+--------+-------+----------+\n",
      "| 001 |  Buy  |  Add   |   20  |   100    |\n",
      "| 002 |  Sell |  Add   |   25  |   200    |\n",
      "| 003 |  Buy  |  Add   |   23  |    50    |\n",
      "| 004 |  Buy  |  Add   |   23  |    70    |\n",
      "| 003 |  Buy  | Remove |   23  |    50    |\n",
      "| 005 |  Sell |  Add   |   28  |   100    |\n",
      "| 006 |  Buy  |  Add   |   30  |    30    |\n",
      "+-----+-------+--------+-------+----------+\n"
     ]
    }
   ],
   "source": [
    "order = Order(id=\"006\", order_type=OrderType.Buy, operation_type=OperationType.Add, price=Decimal(\"30.00\"), quantity=30)\n",
    "order_book.add(order=order)\n",
    "order_book.print_orderbook()"
   ]
  },
  {
   "cell_type": "markdown",
   "metadata": {},
   "source": [
    "Sell type"
   ]
  },
  {
   "cell_type": "code",
   "execution_count": 9,
   "metadata": {},
   "outputs": [
    {
     "name": "stdout",
     "output_type": "stream",
     "text": [
      "Aktualnie najlepsze cena zlecenia typu Buy: 30\n",
      "+-----+-------+--------+-------+----------+\n",
      "|  id | order |  type  | price | quantity |\n",
      "+-----+-------+--------+-------+----------+\n",
      "| 001 |  Buy  |  Add   |   20  |   100    |\n",
      "| 002 |  Sell |  Add   |   25  |   200    |\n",
      "| 003 |  Buy  |  Add   |   23  |    50    |\n",
      "| 004 |  Buy  |  Add   |   23  |    70    |\n",
      "| 003 |  Buy  | Remove |   23  |    50    |\n",
      "| 005 |  Sell |  Add   |   28  |   100    |\n",
      "| 006 |  Buy  |  Add   |   30  |    30    |\n",
      "| 007 |  Sell |  Add   |   27  |    50    |\n",
      "+-----+-------+--------+-------+----------+\n"
     ]
    }
   ],
   "source": [
    "order = Order(id=\"007\", order_type=OrderType.Sell, operation_type=OperationType.Add, price=Decimal(\"27.00\"), quantity=50)\n",
    "order_book.add(order=order)\n",
    "order_book.print_orderbook()"
   ]
  },
  {
   "cell_type": "markdown",
   "metadata": {},
   "source": [
    "### Removing existing order"
   ]
  },
  {
   "cell_type": "markdown",
   "metadata": {},
   "source": [
    "Removing last order"
   ]
  },
  {
   "cell_type": "code",
   "execution_count": 10,
   "metadata": {},
   "outputs": [
    {
     "name": "stdout",
     "output_type": "stream",
     "text": [
      "+-----+-------+--------+-------+----------+\n",
      "|  id | order |  type  | price | quantity |\n",
      "+-----+-------+--------+-------+----------+\n",
      "| 001 |  Buy  |  Add   |   20  |   100    |\n",
      "| 002 |  Sell |  Add   |   25  |   200    |\n",
      "| 003 |  Buy  |  Add   |   23  |    50    |\n",
      "| 004 |  Buy  |  Add   |   23  |    70    |\n",
      "| 003 |  Buy  | Remove |   23  |    50    |\n",
      "| 005 |  Sell |  Add   |   28  |   100    |\n",
      "| 006 |  Buy  |  Add   |   30  |    30    |\n",
      "| 007 |  Sell |  Add   |   27  |    50    |\n",
      "| 006 |  Buy  | Remove |   30  |    30    |\n",
      "+-----+-------+--------+-------+----------+\n"
     ]
    }
   ],
   "source": [
    "order_book.remove(\"006\")\n",
    "order_book.print_orderbook()"
   ]
  },
  {
   "cell_type": "markdown",
   "metadata": {},
   "source": [
    "Trying one more time (should not be allowed as it has already been withdrawn)"
   ]
  },
  {
   "cell_type": "code",
   "execution_count": 11,
   "metadata": {},
   "outputs": [
    {
     "name": "stdout",
     "output_type": "stream",
     "text": [
      "Id: 006 nie istnieje, lub zlecenie zostało już wycofane\n",
      "+-----+-------+--------+-------+----------+\n",
      "|  id | order |  type  | price | quantity |\n",
      "+-----+-------+--------+-------+----------+\n",
      "| 001 |  Buy  |  Add   |   20  |   100    |\n",
      "| 002 |  Sell |  Add   |   25  |   200    |\n",
      "| 003 |  Buy  |  Add   |   23  |    50    |\n",
      "| 004 |  Buy  |  Add   |   23  |    70    |\n",
      "| 003 |  Buy  | Remove |   23  |    50    |\n",
      "| 005 |  Sell |  Add   |   28  |   100    |\n",
      "| 006 |  Buy  |  Add   |   30  |    30    |\n",
      "| 007 |  Sell |  Add   |   27  |    50    |\n",
      "| 006 |  Buy  | Remove |   30  |    30    |\n",
      "+-----+-------+--------+-------+----------+\n"
     ]
    }
   ],
   "source": [
    "order_book.remove(\"006\")\n",
    "order_book.print_orderbook()"
   ]
  },
  {
   "cell_type": "markdown",
   "metadata": {},
   "source": [
    "trying add order of existing id (should not work because an order with the given id already exists)"
   ]
  },
  {
   "cell_type": "code",
   "execution_count": 12,
   "metadata": {},
   "outputs": [
    {
     "name": "stdout",
     "output_type": "stream",
     "text": [
      "Zlecenie o id: 006 już istnieje\n",
      "+-----+-------+--------+-------+----------+\n",
      "|  id | order |  type  | price | quantity |\n",
      "+-----+-------+--------+-------+----------+\n",
      "| 001 |  Buy  |  Add   |   20  |   100    |\n",
      "| 002 |  Sell |  Add   |   25  |   200    |\n",
      "| 003 |  Buy  |  Add   |   23  |    50    |\n",
      "| 004 |  Buy  |  Add   |   23  |    70    |\n",
      "| 003 |  Buy  | Remove |   23  |    50    |\n",
      "| 005 |  Sell |  Add   |   28  |   100    |\n",
      "| 006 |  Buy  |  Add   |   30  |    30    |\n",
      "| 007 |  Sell |  Add   |   27  |    50    |\n",
      "| 006 |  Buy  | Remove |   30  |    30    |\n",
      "+-----+-------+--------+-------+----------+\n"
     ]
    }
   ],
   "source": [
    "order = Order(id=\"006\", order_type=OrderType.Buy, operation_type=OperationType.Add, price=Decimal(\"24.00\"), quantity=30)\n",
    "order_book.add(order=order)\n",
    "order_book.print_orderbook()"
   ]
  },
  {
   "cell_type": "code",
   "execution_count": 13,
   "metadata": {},
   "outputs": [
    {
     "name": "stdout",
     "output_type": "stream",
     "text": [
      "Zlecenie o id: 001 już istnieje\n",
      "+-----+-------+--------+-------+----------+\n",
      "|  id | order |  type  | price | quantity |\n",
      "+-----+-------+--------+-------+----------+\n",
      "| 001 |  Buy  |  Add   |   20  |   100    |\n",
      "| 002 |  Sell |  Add   |   25  |   200    |\n",
      "| 003 |  Buy  |  Add   |   23  |    50    |\n",
      "| 004 |  Buy  |  Add   |   23  |    70    |\n",
      "| 003 |  Buy  | Remove |   23  |    50    |\n",
      "| 005 |  Sell |  Add   |   28  |   100    |\n",
      "| 006 |  Buy  |  Add   |   30  |    30    |\n",
      "| 007 |  Sell |  Add   |   27  |    50    |\n",
      "| 006 |  Buy  | Remove |   30  |    30    |\n",
      "+-----+-------+--------+-------+----------+\n"
     ]
    }
   ],
   "source": [
    "order = Order(id=\"001\", order_type=OrderType.Buy, operation_type=OperationType.Add, price=Decimal(\"24.00\"), quantity=30)\n",
    "order_book.add(order=order)\n",
    "order_book.print_orderbook()"
   ]
  },
  {
   "cell_type": "markdown",
   "metadata": {},
   "source": [
    "checking if best price work (don't using removed orders)"
   ]
  },
  {
   "cell_type": "code",
   "execution_count": 14,
   "metadata": {},
   "outputs": [
    {
     "name": "stdout",
     "output_type": "stream",
     "text": [
      "Aktualnie najlepsze cena zlecenia typu Buy: 23\n",
      "+-----+-------+--------+-------+----------+\n",
      "|  id | order |  type  | price | quantity |\n",
      "+-----+-------+--------+-------+----------+\n",
      "| 001 |  Buy  |  Add   |   20  |   100    |\n",
      "| 002 |  Sell |  Add   |   25  |   200    |\n",
      "| 003 |  Buy  |  Add   |   23  |    50    |\n",
      "| 004 |  Buy  |  Add   |   23  |    70    |\n",
      "| 003 |  Buy  | Remove |   23  |    50    |\n",
      "| 005 |  Sell |  Add   |   28  |   100    |\n",
      "| 006 |  Buy  |  Add   |   30  |    30    |\n",
      "| 007 |  Sell |  Add   |   27  |    50    |\n",
      "| 006 |  Buy  | Remove |   30  |    30    |\n",
      "| 008 |  Sell |  Add   |   22  |   110    |\n",
      "+-----+-------+--------+-------+----------+\n"
     ]
    }
   ],
   "source": [
    "order = Order(id=\"008\", order_type=OrderType.Sell, operation_type=OperationType.Add, price=Decimal(\"22.00\"), quantity=110)\n",
    "order_book.add(order=order)\n",
    "order_book.print_orderbook()"
   ]
  },
  {
   "cell_type": "code",
   "execution_count": 15,
   "metadata": {},
   "outputs": [],
   "source": [
    "order_book.close_connection()"
   ]
  },
  {
   "cell_type": "code",
   "execution_count": null,
   "metadata": {},
   "outputs": [],
   "source": []
  }
 ],
 "metadata": {
  "kernelspec": {
   "display_name": "base",
   "language": "python",
   "name": "python3"
  },
  "language_info": {
   "codemirror_mode": {
    "name": "ipython",
    "version": 3
   },
   "file_extension": ".py",
   "mimetype": "text/x-python",
   "name": "python",
   "nbconvert_exporter": "python",
   "pygments_lexer": "ipython3",
   "version": "3.12.2"
  }
 },
 "nbformat": 4,
 "nbformat_minor": 2
}
